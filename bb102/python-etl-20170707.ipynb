{
 "cells": [
  {
   "cell_type": "markdown",
   "metadata": {},
   "source": [
    "# Install MySQL\n",
    "```bash\n",
    "sudo apt-get update && sudo apt-get install -y mysql-server\n",
    "```\n",
    "\n",
    "\n",
    "```javascript\n",
    "console.log(\"hi from js\")\n",
    "var myvar = \"nice\"\n",
    "```\n",
    "\n",
    "\n",
    "```python\n",
    "import re\n",
    "re.search()\n",
    "```"
   ]
  },
  {
   "cell_type": "code",
   "execution_count": 2,
   "metadata": {
    "collapsed": true
   },
   "outputs": [],
   "source": [
    "# Regular Expression\n",
    "import re"
   ]
  },
  {
   "cell_type": "code",
   "execution_count": 4,
   "metadata": {},
   "outputs": [
    {
     "data": {
      "text/plain": [
       "['1', '1', '1', '7', '1', '2', '5', '9']"
      ]
     },
     "execution_count": 4,
     "metadata": {},
     "output_type": "execute_result"
    }
   ],
   "source": [
    "ip_str = \"※ 發信站: 批踢踢實業坊(ptt.cc), 來自: 111.71.25.9\"\n",
    "\n",
    "\"\"\"\n",
    "Valid IP addresses\n",
    "1.1.1.1\n",
    "111.111.111.111\n",
    "\"\"\"\n",
    "\n",
    "\n",
    "re.findall('[0-9]', ip_str)"
   ]
  },
  {
   "cell_type": "code",
   "execution_count": 5,
   "metadata": {},
   "outputs": [
    {
     "data": {
      "text/plain": [
       "['111']"
      ]
     },
     "execution_count": 5,
     "metadata": {},
     "output_type": "execute_result"
    }
   ],
   "source": [
    "ip_str = \"※ 發信站: 批踢踢實業坊(ptt.cc), 來自: 111.71.25.9\"\n",
    "\n",
    "\"\"\"\n",
    "Valid IP addresses\n",
    "1.1.1.1\n",
    "111.111.111.111\n",
    "\"\"\"\n",
    "\n",
    "\n",
    "re.findall('[0-9][0-9][0-9]', ip_str)"
   ]
  },
  {
   "cell_type": "code",
   "execution_count": 6,
   "metadata": {},
   "outputs": [
    {
     "data": {
      "text/plain": [
       "['111.71.25.9']"
      ]
     },
     "execution_count": 6,
     "metadata": {},
     "output_type": "execute_result"
    }
   ],
   "source": [
    "ip_str = \"※ 發信站: 批踢踢實業坊(ptt.cc), 來自: 111.71.25.9\"\n",
    "\n",
    "\"\"\"\n",
    "Valid IP addresses\n",
    "1.1.1.1\n",
    "111.111.111.111\n",
    "\"\"\"\n",
    "\n",
    "\n",
    "re.findall('[0-9][0-9][0-9]\\.[0-9][0-9]\\.[0-9][0-9]\\.[0-9]', ip_str)"
   ]
  },
  {
   "cell_type": "code",
   "execution_count": 10,
   "metadata": {},
   "outputs": [
    {
     "data": {
      "text/plain": [
       "['223.136.83.250']"
      ]
     },
     "execution_count": 10,
     "metadata": {},
     "output_type": "execute_result"
    }
   ],
   "source": [
    "ip_str2 = \"※ 發信站: 批踢踢實業坊(ptt.cc), 來自: 223.136.83.250\"\n",
    "\n",
    "re.findall('[0-9][0-9]?[0-9]?\\.[0-9][0-9]?[0-9]?\\.[0-9][0-9]?[0-9]?\\.[0-9][0-9]?[0-9]?', ip_str2)"
   ]
  },
  {
   "cell_type": "code",
   "execution_count": 11,
   "metadata": {},
   "outputs": [
    {
     "data": {
      "text/plain": [
       "['223.136.83.250']"
      ]
     },
     "execution_count": 11,
     "metadata": {},
     "output_type": "execute_result"
    }
   ],
   "source": [
    "ip_str2 = \"※ 發信站: 批踢踢實業坊(ptt.cc), 來自: 223.136.83.250\"\n",
    "\n",
    "re.findall('\\d\\d?\\d?\\.\\d\\d?\\d?\\.\\d\\d?\\d?\\.\\d\\d?\\d?', ip_str2)"
   ]
  },
  {
   "cell_type": "code",
   "execution_count": 17,
   "metadata": {},
   "outputs": [
    {
     "data": {
      "text/plain": [
       "['223.136.83.250']"
      ]
     },
     "execution_count": 17,
     "metadata": {},
     "output_type": "execute_result"
    }
   ],
   "source": [
    "# {} -> quantifier\n",
    "ip_str2 = \"※ 發信站: 批踢踢實業坊(ptt.cc), 來自: 223.136.83.250\"\n",
    "\n",
    "re.findall('\\d{1,3}\\.\\d{1,3}\\.\\d{1,3}\\.\\d{1,3}', ip_str2)"
   ]
  },
  {
   "cell_type": "code",
   "execution_count": 19,
   "metadata": {},
   "outputs": [
    {
     "data": {
      "text/plain": [
       "['※ 發',\n",
       " '信站:',\n",
       " ' 批踢',\n",
       " '踢實業',\n",
       " '坊(p',\n",
       " 'tt.',\n",
       " 'cc)',\n",
       " ', 來',\n",
       " '自: ',\n",
       " '223',\n",
       " '.13',\n",
       " '6.8',\n",
       " '3.2']"
      ]
     },
     "execution_count": 19,
     "metadata": {},
     "output_type": "execute_result"
    }
   ],
   "source": [
    "# . -> wildcard character\n",
    "# {} -> quantifier\n",
    "ip_str2 = \"※ 發信站: 批踢踢實業坊(ptt.cc), 來自: 223.136.83.250\"\n",
    "\n",
    "re.findall('...', ip_str2)"
   ]
  },
  {
   "cell_type": "code",
   "execution_count": 22,
   "metadata": {},
   "outputs": [
    {
     "data": {
      "text/plain": [
       "['ianchen06@gmail.com']"
      ]
     },
     "execution_count": 22,
     "metadata": {},
     "output_type": "execute_result"
    }
   ],
   "source": [
    "# . -> wildcard character\n",
    "# {} -> quantifier\n",
    "ip_str2 = \"※ 發信站: 批踢踢實業坊(ptt.cc), 來自: ianchen06@gmail.com\"\n",
    "\n",
    "re.findall('\\w{1,}@\\w{1,}\\.\\w{1,}', ip_str2)"
   ]
  },
  {
   "cell_type": "code",
   "execution_count": 23,
   "metadata": {},
   "outputs": [
    {
     "data": {
      "text/plain": [
       "['ianchen06@gmail.com']"
      ]
     },
     "execution_count": 23,
     "metadata": {},
     "output_type": "execute_result"
    }
   ],
   "source": [
    "# . -> wildcard character\n",
    "# {} -> quantifier\n",
    "ip_str2 = \"※ 發信站: 批踢踢實業坊(ptt.cc), 來自: ianchen06@gmail.com\"\n",
    "\n",
    "re.findall('\\w+@\\w+\\.\\w+', ip_str2)"
   ]
  },
  {
   "cell_type": "code",
   "execution_count": 26,
   "metadata": {},
   "outputs": [
    {
     "data": {
      "text/plain": [
       "['ianchen06@gmail.com']"
      ]
     },
     "execution_count": 26,
     "metadata": {},
     "output_type": "execute_result"
    }
   ],
   "source": [
    "# . -> wildcard character\n",
    "# {} -> quantifier\n",
    "# $ -> end of string\n",
    "ip_str2 = \"ptt@gmail.com※ 發信站: 批踢踢實業坊(), 來自: ianchen06@gmail.com\"\n",
    "\n",
    "re.findall('\\w+@\\w+\\.\\w+$', ip_str2)"
   ]
  },
  {
   "cell_type": "code",
   "execution_count": 28,
   "metadata": {},
   "outputs": [
    {
     "data": {
      "text/plain": [
       "['ptt@gmail.com']"
      ]
     },
     "execution_count": 28,
     "metadata": {},
     "output_type": "execute_result"
    }
   ],
   "source": [
    "# . -> wildcard character\n",
    "# {} -> quantifier\n",
    "# $ -> end of string\n",
    "# ^ -> start of string\n",
    "ip_str2 = \"ptt@gmail.com※ 發信站: 批踢踢實業坊(), 來自: ianchen06@gmail.com\"\n",
    "\n",
    "re.findall('^\\w+@\\w+\\.\\w+', ip_str2)"
   ]
  },
  {
   "cell_type": "code",
   "execution_count": 30,
   "metadata": {},
   "outputs": [
    {
     "name": "stdout",
     "output_type": "stream",
     "text": [
      "Collecting requests\n",
      "  Downloading requests-2.18.1-py2.py3-none-any.whl (88kB)\n",
      "\u001b[K    100% |████████████████████████████████| 92kB 741kB/s ta 0:00:01\n",
      "\u001b[?25hCollecting chardet<3.1.0,>=3.0.2 (from requests)\n",
      "  Downloading chardet-3.0.4-py2.py3-none-any.whl (133kB)\n",
      "\u001b[K    100% |████████████████████████████████| 143kB 1.7MB/s ta 0:00:01\n",
      "\u001b[?25hCollecting idna<2.6,>=2.5 (from requests)\n",
      "  Downloading idna-2.5-py2.py3-none-any.whl (55kB)\n",
      "\u001b[K    100% |████████████████████████████████| 61kB 6.9MB/s eta 0:00:01\n",
      "\u001b[?25hCollecting urllib3<1.22,>=1.21.1 (from requests)\n",
      "  Downloading urllib3-1.21.1-py2.py3-none-any.whl (131kB)\n",
      "\u001b[K    100% |████████████████████████████████| 133kB 5.0MB/s ta 0:00:01\n",
      "\u001b[?25hCollecting certifi>=2017.4.17 (from requests)\n",
      "  Downloading certifi-2017.4.17-py2.py3-none-any.whl (375kB)\n",
      "\u001b[K    100% |████████████████████████████████| 378kB 3.2MB/s eta 0:00:01    35% |███████████▎                    | 133kB 8.5MB/s eta 0:00:01    70% |██████████████████████▋         | 266kB 10.4MB/s eta 0:00:01\n",
      "\u001b[?25hInstalling collected packages: chardet, idna, urllib3, certifi, requests\n",
      "Successfully installed certifi-2017.4.17 chardet-3.0.4 idna-2.5 requests-2.18.1 urllib3-1.21.1\n"
     ]
    }
   ],
   "source": [
    "!pip install requests"
   ]
  },
  {
   "cell_type": "code",
   "execution_count": null,
   "metadata": {
    "collapsed": true
   },
   "outputs": [],
   "source": [
    "import requests\n",
    "\n",
    "URL = \"http://www.coolpc.com.tw/evaluate.php\"\n",
    "\n",
    "requests.get(URL, headers={\"\"})"
   ]
  }
 ],
 "metadata": {
  "kernelspec": {
   "display_name": "Python 3",
   "language": "python",
   "name": "python3"
  },
  "language_info": {
   "codemirror_mode": {
    "name": "ipython",
    "version": 3
   },
   "file_extension": ".py",
   "mimetype": "text/x-python",
   "name": "python",
   "nbconvert_exporter": "python",
   "pygments_lexer": "ipython3",
   "version": "3.6.1"
  }
 },
 "nbformat": 4,
 "nbformat_minor": 2
}
